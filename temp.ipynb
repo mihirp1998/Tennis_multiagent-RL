{
 "cells": [
  {
   "cell_type": "markdown",
   "metadata": {},
   "source": [
    "# Continuous Control\n",
    "\n",
    "---\n",
    "\n",
    "In this notebook, you will learn how to use the Unity ML-Agents environment for the second project of the [Deep Reinforcement Learning Nanodegree](https://www.udacity.com/course/deep-reinforcement-learning-nanodegree--nd893) program.\n",
    "\n",
    "### 1. Start the Environment\n",
    "\n",
    "We begin by importing the necessary packages.  If the code cell below returns an error, please revisit the project instructions to double-check that you have installed [Unity ML-Agents](https://github.com/Unity-Technologies/ml-agents/blob/master/docs/Installation.md) and [NumPy](http://www.numpy.org/)."
   ]
  },
  {
   "cell_type": "markdown",
   "metadata": {},
   "source": [
    "### 3. Take Random Actions in the Environment\n",
    "\n",
    "In the next code cell, you will learn how to use the Python API to control the agent and receive feedback from the environment.\n",
    "\n",
    "\n",
    "Once this cell is executed, you will watch the agent's performance, if it selects an action at random with each time step.  A window should pop up that allows you to observe the agent, as it moves through the environment.  \n",
    "\n",
    "Of course, as part of the project, you'll have to change the code so that the agent is able to use its experience to gradually choose better actions when interacting with the environment!"
   ]
  },
  {
   "cell_type": "code",
   "execution_count": 1,
   "metadata": {},
   "outputs": [
    {
     "name": "stderr",
     "output_type": "stream",
     "text": [
      "INFO:unityagents:\n",
      "'Academy' started successfully!\n",
      "Unity Academy name: Academy\n",
      "        Number of Brains: 1\n",
      "        Number of External Brains : 1\n",
      "        Lesson number : 0\n",
      "        Reset Parameters :\n",
      "\t\tgoal_speed -> 1.0\n",
      "\t\tgoal_size -> 5.0\n",
      "Unity brain name: ReacherBrain\n",
      "        Number of Visual Observations (per agent): 0\n",
      "        Vector Observation space type: continuous\n",
      "        Vector Observation space size (per agent): 33\n",
      "        Number of stacked Vector Observation: 1\n",
      "        Vector Action space type: continuous\n",
      "        Vector Action space size (per agent): 4\n",
      "        Vector Action descriptions: , , , \n"
     ]
    },
    {
     "name": "stdout",
     "output_type": "stream",
     "text": [
      "Size of each action: 4\n",
      "episode done  [False]\n",
      "odict_keys(['normalizer.weight', 'normalizer.bias', 'normalizer.running_mean', 'normalizer.running_var', 'normalizer.num_batches_tracked', 'layers.0.weight', 'layers.0.bias', 'layers.1.weight', 'layers.1.bias', 'output.weight', 'output.bias'])\n"
     ]
    },
    {
     "name": "stderr",
     "output_type": "stream",
     "text": [
      "/home_01/f20150198/miniconda2/envs/python3/lib/python3.5/site-packages/torch/nn/functional.py:995: UserWarning: nn.functional.tanh is deprecated. Use torch.tanh instead.\n",
      "  warnings.warn(\"nn.functional.tanh is deprecated. Use torch.tanh instead.\")\n"
     ]
    },
    {
     "name": "stdout",
     "output_type": "stream",
     "text": [
      "Total score (averaged over agents) this episode: 30.58999931626022 [30.58999932]\n"
     ]
    }
   ],
   "source": [
    "from unityagents import UnityEnvironment\n",
    "import numpy as np\n",
    "import torch\n",
    "env = UnityEnvironment(file_name='Reacher_Linux_NoVis/Reacher.x86_64')\n",
    "from ddpg_agent import Agent\n",
    "brain_name = env.brain_names[0]\n",
    "num_agents =1\n",
    "env_info = env.reset(train_mode=True)[brain_name]     # reset the environment    \n",
    "scores = np.zeros(num_agents)                          # initialize the score (for each agent)\n",
    "\n",
    "brain = env.brains[brain_name]\n",
    "action_size = brain.vector_action_space_size\n",
    "print('Size of each action:', action_size)\n",
    "print(\"episode done \",env_info.local_done)\n",
    "# examine the state space \n",
    "state = env_info.vector_observations\n",
    "state_size = state.shape[1]\n",
    "agent = Agent(state_size=state_size, action_size=action_size, random_seed=3)\n",
    "#agent.actor_local\n",
    "agent.reset()\n",
    "agent.critic_local.eval()\n",
    "agent.actor_local.eval()\n",
    "print(torch.load(\"checkpoint_critic_temp.pth\", map_location=lambda storage, loc: storage).keys())\n",
    "agent.critic_local.load_state_dict(torch.load(\"checkpoint_critic.pth\"))\n",
    "agent.actor_local.load_state_dict(torch.load(\"checkpoint_actor.pth\"))\n",
    "while True:\n",
    "    action = agent.act(state)\n",
    "    env_info = env.step(action)[brain_name]           # send all actions to tne environment\n",
    "    next_states = env_info.vector_observations         # get next state (for each agent)\n",
    "    rewards = env_info.rewards                         # get reward (for each agent)\n",
    "    #print(rewards)\n",
    "    dones = env_info.local_done                        # see if episode finished\n",
    "    scores += env_info.rewards                         # update the score (for each agent)\n",
    "    state = next_states                               # roll over states to next time step\n",
    "    if np.any(dones):                                  # exit loop if episode finished\n",
    "        break\n",
    "print('Total score (averaged over agents) this episode: {}'.format(np.mean(scores)),scores)"
   ]
  },
  {
   "cell_type": "code",
   "execution_count": 2,
   "metadata": {
    "scrolled": true
   },
   "outputs": [
    {
     "name": "stderr",
     "output_type": "stream",
     "text": [
      "INFO:unityagents:\n",
      "'Academy' started successfully!\n",
      "Unity Academy name: Academy\n",
      "        Number of Brains: 1\n",
      "        Number of External Brains : 1\n",
      "        Lesson number : 0\n",
      "        Reset Parameters :\n",
      "\t\tgoal_speed -> 1.0\n",
      "\t\tgoal_size -> 5.0\n",
      "Unity brain name: ReacherBrain\n",
      "        Number of Visual Observations (per agent): 0\n",
      "        Vector Observation space type: continuous\n",
      "        Vector Observation space size (per agent): 33\n",
      "        Number of stacked Vector Observation: 1\n",
      "        Vector Action space type: continuous\n",
      "        Vector Action space size (per agent): 4\n",
      "        Vector Action descriptions: , , , \n"
     ]
    },
    {
     "name": "stdout",
     "output_type": "stream",
     "text": [
      "Size of each action: 4\n",
      "episode done  [False]\n",
      "hello\n",
      "avg score 38.629999136552215\n",
      "Episode 1\tAverage Score: 38.62999914[38.629999136552215]\n"
     ]
    },
    {
     "data": {
      "image/png": "[encoded data removed]",
      "text/plain": [
       "<Figure size 432x288 with 1 Axes>"
      ]
     },
     "metadata": {
      "needs_background": "light"
     },
     "output_type": "display_data"
    },
    {
     "data": {
      "text/plain": [
       "<Figure size 432x288 with 0 Axes>"
      ]
     },
     "metadata": {},
     "output_type": "display_data"
    }
   ],
   "source": [
    "from collections import deque\n",
    "from ddpg_agent import Agent\n",
    "from unityagents import UnityEnvironment\n",
    "import torch\n",
    "import matplotlib.pyplot as plt\n",
    "import numpy as np\n",
    "env = UnityEnvironment(file_name='Reacher_Linux_NoVis/Reacher.x86_64')\n",
    "brain_name = env.brain_names[0]\n",
    "brain = env.brains[brain_name]\n",
    "env_info = env.reset(train_mode=True)[brain_name]\n",
    "action_size = brain.vector_action_space_size\n",
    "print('Size of each action:', action_size)\n",
    "print(\"episode done \",env_info.local_done)\n",
    "# examine the state space \n",
    "states = env_info.vector_observations\n",
    "state_size = states.shape[1]\n",
    "agent = Agent(state_size=state_size, action_size=action_size, random_seed=3)\n",
    "agent.critic_local.load_state_dict(torch.load(\"checkpoint_critic.pth\"))\n",
    "agent.actor_local.load_state_dict(torch.load(\"checkpoint_actor.pth\"))\n",
    "#scores = np.zeros(1)                          # initialize the score (for each agent)\n",
    "print(\"hello\")\n",
    "def ddpg(n_episodes=5000, max_t=2000, print_every=100):\n",
    "    scores_deque = deque(maxlen=print_every)\n",
    "    scores = []\n",
    "    for i_episode in range(1, n_episodes+1):\n",
    "        #/print(\"mello\")\n",
    "        agent.reset()\n",
    "        env_info = env.reset(train_mode=True)[brain_name]     # reset the environment\n",
    "        #print(\"kello\")\n",
    "        state = env_info.vector_observations                 # get the current state (for each agent)\n",
    "        score = np.zeros(1)\n",
    "        for t in range(max_t):\n",
    "            action = agent.act(state)\n",
    "            env_info = env.step(action)[brain_name]           # send all actions to tne environment\n",
    "            next_state = env_info.vector_observations         # get next state (for each agent)\n",
    "            reward = env_info.rewards                        # get reward (for each agent)\n",
    "            done = env_info.local_done                        # see if episode finished\n",
    "            agent.step(state, action, reward, next_state, done)\n",
    "            state = next_state\n",
    "            score += reward\n",
    "            if done[0]:\n",
    "                break\n",
    "        avg_score = np.mean(score)\n",
    "        print(\"avg score\",avg_score)\n",
    "        scores_deque.append(avg_score)\n",
    "        scores.append(avg_score)\n",
    "        print('\\rEpisode {}\\tAverage Score: {:.8f}'.format(i_episode, np.mean(scores_deque)), end=\"\")\n",
    "        if np.mean(scores_deque) >= 30:\n",
    "            torch.save(agent.actor_local.state_dict(), 'checkpoint_actor_temp.pth')\n",
    "            torch.save(agent.critic_local.state_dict(), 'checkpoint_critic_temp.pth')\n",
    "            break\n",
    "        if i_episode % print_every == 0:\n",
    "            print('\\rEpisode {}\\tAverage Score: {:.2f}'.format(i_episode, np.mean(scores_deque)))\n",
    "            `\n",
    "    return scores\n",
    "\n",
    "scores = ddpg()\n",
    "fig = plt.figure()\n",
    "ax = fig.add_subplot(111)\n",
    "print(scores)\n",
    "plt.plot(np.arange(1, len(scores)+1), scores)\n",
    "plt.ylabel('Score')\n",
    "plt.xlabel('Episode #')\n",
    "plt.show()\n",
    "plt.savefig(\"graph.png\")"
   ]
  },
  {
   "cell_type": "code",
   "execution_count": null,
   "metadata": {},
   "outputs": [
    {
     "name": "stdout",
     "output_type": "stream",
     "text": [
      "\u001b7\u001b[?47h\u001b[?1h\u001b=\r",
      "Found path: /home_01/f20150198/projects/deep-reinforcement-learning/p2_continuou \bs-control/Reacher_Linux_NoVis/Reacher.x86_64\r\n",
      "Mono path[0] = '/home_01/f20150198/projects/deep-reinforcement-learning/p2_conti \bnuous-control/Reacher_Linux_NoVis/Reacher_Data/Managed'\r\n",
      "Mono config path = '/home_01/f20150198/projects/deep-reinforcement-learning/p2_c \bontinuous-control/Reacher_Linux_NoVis/Reacher_Data/MonoBleedingEdge/etc'\r\n",
      "Preloaded 'libgrpc_csharp_ext.x64.so'\r\n",
      "Unable to preload the following plugins:\r\n",
      "        libgrpc_csharp_ext.x86.so\r\n",
      "Logging to /home_01/f20150198/.config/unity3d/Unity Technologies/Unity Environme \bnt/Player.log\r\n",
      "Size of each action: 4\r\n",
      "episode done  [False]\r\n",
      "hello\r\n",
      "\u001b[7m^M\u001b[mEpisode 1     Average Score: 0.00000000\u001b[7m^M\u001b[mEpisode 2    Average Score: 0.0000000 \b0\u001b[7m^M\u001b[mEpisode 3    Average Score: 0.41666666\u001b[7m^M\u001b[mEpisode 4    Average Score: 0.4374999 \b9\u001b[7m^M\u001b[mEpisode 5    Average Score: 0.34999999\u001b[7m^M\u001b[mEpisode 6    Average Score: 0.3816666 \b6\u001b[7m^M\u001b[mEpisode 7    Average Score: 0.43999999\u001b[7m^M\u001b[mEpisode 8    Average Score: 0.4837499 \b9\u001b[7m^M\u001b[mEpisode 9    Average Score: 0.48444443\u001b[7m^M\u001b[mEpisode 10   Average Score: 0.4689999 \b9\u001b[7m^M\u001b[mEpisode 11   Average Score: 0.50999999\u001b[7m^M\u001b[mEpisode 12   Average Score: 0.5283333 \b2\u001b[7m^M\u001b[mEpisode 13   Average Score: 0.50769230\u001b[7m^M\u001b[mEpisode 14   Average Score: 0.5199999 \b9\u001b[7m^M\u001b[mEpisode 15   Average Score: 0.49666666\u001b[7m^M\u001b[mEpisode 16   Average Score: 0.5249999 \b9\u001b[7m^M\u001b[mEpisode 17   Average Score: 0.58058822\u001b[7m^M\u001b[mEpisode 18   Average Score: 0.5683333 \b\u001b[7mlog.out\u001b[m\u001b[K"
     ]
    }
   ],
   "source": [
    "!less log.out"
   ]
  },
  {
   "cell_type": "markdown",
   "metadata": {},
   "source": [
    "![title](graph.png)"
   ]
  },
  {
   "cell_type": "code",
   "execution_count": null,
   "metadata": {},
   "outputs": [],
   "source": [
    "env.close()\n"
   ]
  },
  {
   "cell_type": "markdown",
   "metadata": {},
   "source": [
    "### 4. It's Your Turn!\n",
    "\n",
    "Now it's your turn to train your own agent to solve the environment!  When training the environment, set `train_mode=True`, so that the line for resetting the environment looks like the following:\n",
    "```python\n",
    "env_info = env.reset(train_mode=True)[brain_name]\n",
    "```"
   ]
  }
 ],
 "metadata": {
  "kernelspec": {
   "display_name": "Python 3",
   "language": "python",
   "name": "python3"
  },
  "language_info": {
   "codemirror_mode": {
    "name": "ipython",
    "version": 3
   },
   "file_extension": ".py",
   "mimetype": "text/x-python",
   "name": "python",
   "nbconvert_exporter": "python",
   "pygments_lexer": "ipython3",
   "version": "3.5.6"
  }
 },
 "nbformat": 4,
 "nbformat_minor": 2
}
